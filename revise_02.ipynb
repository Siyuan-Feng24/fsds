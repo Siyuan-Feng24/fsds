{
 "cells": [
  {
   "cell_type": "markdown",
   "id": "750551ff-ea70-489b-904a-e4596a064eef",
   "metadata": {},
   "source": [
    "# 02_List\n",
    "## manipulate list"
   ]
  },
  {
   "cell_type": "code",
   "execution_count": 2,
   "id": "7656d94b-46a4-418e-8142-5985c0d7f8c4",
   "metadata": {},
   "outputs": [
    {
     "name": "stdout",
     "output_type": "stream",
     "text": [
      "New York\n",
      "0\n",
      "['Beijing', 'Delhi', 'London', 'New York', 'Tokyo']\n",
      "['Beijing', 'Toronto', 'Delhi', 'London', 'New York', 'Tokyo']\n",
      "['Beijing', 'Toronto', 'London', 'New York', 'Tokyo']\n",
      "['Beijing', 'London', 'New York', 'Tokyo']\n"
     ]
    }
   ],
   "source": [
    "mylist = ['New York', 'London', 'Beijing', 'Tokyo', 'Delhi']\n",
    "\n",
    "# 索引\n",
    "print(mylist[0])\n",
    "print(mylist.index('New York'))\n",
    "\n",
    "# 排序\n",
    "mylist.reverse()\n",
    "\n",
    "# 排序（倒序）\n",
    "mylist.sort(reverse = False)\n",
    "print(mylist)\n",
    "\n",
    "# 插入\n",
    "mylist.insert(1, 'Toronto')\n",
    "print(mylist)\n",
    "\n",
    "# 删除\n",
    "mylist.remove('Delhi')\n",
    "print(mylist)\n",
    "mylist2 = mylist.pop(1) # pop指令接索引\n",
    "print(mylist)"
   ]
  }
 ],
 "metadata": {
  "kernelspec": {
   "display_name": "Python (base)",
   "language": "python",
   "name": "base"
  },
  "language_info": {
   "codemirror_mode": {
    "name": "ipython",
    "version": 3
   },
   "file_extension": ".py",
   "mimetype": "text/x-python",
   "name": "python",
   "nbconvert_exporter": "python",
   "pygments_lexer": "ipython3",
   "version": "3.11.9"
  }
 },
 "nbformat": 4,
 "nbformat_minor": 5
}
