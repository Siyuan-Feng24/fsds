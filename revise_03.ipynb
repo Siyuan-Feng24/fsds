{
 "cells": [
  {
   "cell_type": "markdown",
   "id": "93a0876e-1e98-42b9-8d64-38655757e217",
   "metadata": {},
   "source": [
    "# 03_Dictionary"
   ]
  },
  {
   "cell_type": "markdown",
   "id": "9633f91f-8983-4a50-99ff-fcc10d3c6955",
   "metadata": {},
   "source": [
    "## Video - Data structure\n",
    "- dictionary的好处：可以直接根据key找，而列表需要遍历去找。\n",
    "- 一种比较高效的嵌套，每个键值对都代表同种信息："
   ]
  },
  {
   "cell_type": "code",
   "execution_count": 3,
   "id": "276f20d2-e9e2-4a99-bcbf-351b91407b2a",
   "metadata": {},
   "outputs": [
    {
     "name": "stdout",
     "output_type": "stream",
     "text": [
      "The time zone of Tokyo is 8\n"
     ]
    }
   ],
   "source": [
    "ds2 = {\n",
    "    'lat':[51, 40, 35],\n",
    "    'lon':[0, 74, 139],\n",
    "    'tz':[+0, -5, +8],\n",
    "    'name':['London', 'New York', 'Tokyo']\n",
    "}\n",
    "\n",
    "name = 'Tokyo' # 只需要替换name，后面代码不用改\n",
    "idx = ds2['name'].index(name)\n",
    "print(f\"The time zone of {name} is {ds2['tz'][idx]}\")"
   ]
  },
  {
   "cell_type": "markdown",
   "id": "5ba5c98b-a410-4152-86d7-a8a443ed8afc",
   "metadata": {},
   "source": [
    "## Video - Command line\n",
    "大概率不考，所以没仔细看。考的话得问GPT。\n",
    "## Dictionary"
   ]
  },
  {
   "cell_type": "code",
   "execution_count": 7,
   "id": "43a5a15b-1c8a-4682-bd16-943699dea9de",
   "metadata": {},
   "outputs": [
    {
     "name": "stdout",
     "output_type": "stream",
     "text": [
      "51.51\n"
     ]
    }
   ],
   "source": [
    "cities = {\n",
    "    'San Francisco': [37.77, -122.43, 'SFO'],\n",
    "    'London': [51.51, -0.08, 'LDN'],\n",
    "    'Paris': [48.86,2.29, 'PAR'],\n",
    "    'Beijing': [39.92,116.40 ,'BEI'],\n",
    "}\n",
    "\n",
    "# get(): 有key找value\n",
    "print(cities.get('London')[0])"
   ]
  }
 ],
 "metadata": {
  "kernelspec": {
   "display_name": "Python (base)",
   "language": "python",
   "name": "base"
  },
  "language_info": {
   "codemirror_mode": {
    "name": "ipython",
    "version": 3
   },
   "file_extension": ".py",
   "mimetype": "text/x-python",
   "name": "python",
   "nbconvert_exporter": "python",
   "pygments_lexer": "ipython3",
   "version": "3.11.9"
  }
 },
 "nbformat": 4,
 "nbformat_minor": 5
}
